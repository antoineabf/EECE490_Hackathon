{
 "cells": [
  {
   "cell_type": "markdown",
   "metadata": {
    "id": "BePYXcYNA9Ze"
   },
   "source": [
    "# Team:\n",
    "# Antoine Abou Faycal & Mahdi Alhakim\n",
    "# EECE 490\n",
    "# GitHub Link: https://github.com/antoineabf/EECE490_Hackathon\n",
    "# Predicting Brand Switching Due to Economic Factors Using Logistic Regression\n",
    "\n",
    "## **Introduction**\n",
    "\n",
    "The goal of this notebook is to **predict whether smokers have switched to alternative cigarette brands due to economic hardship**. This classification task leverages Logistic Regression to analyze various demographic, economic, lifestyle, and personality features influencing brand switching behavior.\n",
    "\n",
    "---\n",
    "\n",
    "## 1. Import Necessary Libraries\n",
    "\n",
    "Begin by importing all the required libraries for data manipulation, preprocessing, model training, evaluation, and persistence."
   ]
  },
  {
   "cell_type": "code",
   "execution_count": 9,
   "metadata": {
    "id": "JryIujm7BIz3"
   },
   "outputs": [],
   "source": [
    "# Import Necessary Libraries\n",
    "import pandas as pd\n",
    "import numpy as np\n",
    "from sklearn.model_selection import train_test_split, GridSearchCV\n",
    "from sklearn.linear_model import LogisticRegression\n",
    "from sklearn.impute import SimpleImputer\n",
    "from sklearn.preprocessing import OneHotEncoder, StandardScaler\n",
    "from sklearn.compose import ColumnTransformer\n",
    "from sklearn.pipeline import Pipeline\n",
    "from sklearn.metrics import accuracy_score, classification_report, confusion_matrix\n",
    "import joblib"
   ]
  },
  {
   "cell_type": "markdown",
   "metadata": {
    "id": "5s6D_ZVQBLBh"
   },
   "source": [
    "\n",
    "\n",
    "---\n",
    "\n",
    "## 2. Load and Inspect the Dataset\n",
    "\n",
    "Load the dataset from an Excel file into a pandas DataFrame and inspect its structure.\n",
    "\n"
   ]
  },
  {
   "cell_type": "code",
   "execution_count": 10,
   "metadata": {
    "colab": {
     "base_uri": "https://localhost:8080/"
    },
    "id": "2Qe5BnXrBMZb",
    "outputId": "feffc267-7c17-40a3-d982-949f5d8334b4"
   },
   "outputs": [
    {
     "name": "stdout",
     "output_type": "stream",
     "text": [
      "First 5 rows of the dataset:\n",
      "   Unnamed: 0   Sector  Last page  \\\n",
      "0           5  Private          5   \n",
      "1          11  Private          5   \n",
      "2          14  Private          5   \n",
      "3          15  Private          5   \n",
      "4          16  Private          5   \n",
      "\n",
      "  Have you smoked at least one full tobacco cigarette (excluding e-cigarettes) once or more in the past 30 days?  \\\n",
      "0                                                Yes                                                               \n",
      "1                                                Yes                                                               \n",
      "2                                                Yes                                                               \n",
      "3                                                Yes                                                               \n",
      "4                                                Yes                                                               \n",
      "\n",
      "  I see myself as someone who is extraverted, enthusiastic:  \\\n",
      "0                                     Agree strongly          \n",
      "1                                   Agree moderately          \n",
      "2                                Disagree moderately          \n",
      "3                                     Agree strongly          \n",
      "4                                     Agree a little          \n",
      "\n",
      "  I see myself as someone who is critical, quarrelsome:  \\\n",
      "0                                Disagree moderately      \n",
      "1                                   Agree moderately      \n",
      "2                         Neither agree nor disagree      \n",
      "3                                Disagree moderately      \n",
      "4                                     Agree a little      \n",
      "\n",
      "  I see myself as someone who is dependable, self-disciplined:  \\\n",
      "0                                     Agree strongly             \n",
      "1                                   Agree moderately             \n",
      "2                                     Agree a little             \n",
      "3                                     Agree strongly             \n",
      "4                                     Agree strongly             \n",
      "\n",
      "  I see myself as someone who is anxious, easily upset:  \\\n",
      "0                                   Agree moderately      \n",
      "1                                     Agree a little      \n",
      "2                                   Agree moderately      \n",
      "3                                  Disagree strongly      \n",
      "4                                Disagree moderately      \n",
      "\n",
      "  I see myself as someone who is open to new experiences:  \\\n",
      "0                                     Agree strongly        \n",
      "1                                     Agree strongly        \n",
      "2                                  Disagree a little        \n",
      "3                                     Agree strongly        \n",
      "4                                   Agree moderately        \n",
      "\n",
      "  I see myself as someone who is reserved, quiet:  ...  \\\n",
      "0                                  Agree a little  ...   \n",
      "1                               Disagree strongly  ...   \n",
      "2                                Agree moderately  ...   \n",
      "3                             Disagree moderately  ...   \n",
      "4                                  Agree strongly  ...   \n",
      "\n",
      "  What type of income or financial support does your household receive?  \\\n",
      "0                             Fully in Lebanese Lira                      \n",
      "1                                Fully in US Dollars                      \n",
      "2                             Fully in Lebanese Lira                      \n",
      "3                                              Mixed                      \n",
      "4                              Other, please specify                      \n",
      "\n",
      "  What type of income or financial support does your household receive? [Comment]  \\\n",
      "0                                                NaN                                \n",
      "1                                                NaN                                \n",
      "2                                                NaN                                \n",
      "3                                                NaN                                \n",
      "4                                                NaN                                \n",
      "\n",
      "  If you receive payment in Lebanese Lira, what is your current estimated monthly household income? (If income is in US Dollars, then refer to the current black market exchange).  \\\n",
      "0                           More than 20 million L.L                                                                                                                                 \n",
      "1                           More than 20 million L.L                                                                                                                                 \n",
      "2                                       I don't know                                                                                                                                 \n",
      "3                                       I don't know                                                                                                                                 \n",
      "4                                I prefer not to say                                                                                                                                 \n",
      "\n",
      "  How would you describe your current income sufficiency?  \\\n",
      "0  High: completely covers necessities with a few...        \n",
      "1  High: completely covers necessities with a few...        \n",
      "2  High: completely covers necessities with a few...        \n",
      "3                     Medium: covers all basic needs        \n",
      "4                     Medium: covers all basic needs        \n",
      "\n",
      "  Including yourself, how many people currently live in your household?  \\\n",
      "0                                                  4                      \n",
      "1                                                  4                      \n",
      "2                                                  4                      \n",
      "3                                                  5                      \n",
      "4                                                  6                      \n",
      "\n",
      "  To what extent were you financially (negatively) affected by the deterioration of the Lebanese economy?  \\\n",
      "0                                               Very                                                        \n",
      "1                                           Slightly                                                        \n",
      "2                                         Moderately                                                        \n",
      "3                                         Moderately                                                        \n",
      "4                                           Slightly                                                        \n",
      "\n",
      "                 How often do you exercise?  \\\n",
      "0                                     Never   \n",
      "1       Often or at least 3 days every week   \n",
      "2  Every day or at least 5 times every week   \n",
      "3       Often or at least 3 days every week   \n",
      "4  Every day or at least 5 times every week   \n",
      "\n",
      "  On average, how many hours per day do you spend on social media for entertainment and social interaction (Facebook, Instagram, YouTube, etc...)?  \\\n",
      "0                              Between 2 and 3 hours                                                                                                 \n",
      "1                              Between 2 and 3 hours                                                                                                 \n",
      "2                                  More than 4 hours                                                                                                 \n",
      "3                              Between 2 and 3 hours                                                                                                 \n",
      "4                                   Less than 1 hour                                                                                                 \n",
      "\n",
      "  How often do you feel stressed? Employment Status  \n",
      "0                      Frequently          Employed  \n",
      "1                    Occasionally        Unemployed  \n",
      "2                      Constantly          Employed  \n",
      "3                    Occasionally          Employed  \n",
      "4                           Never          Employed  \n",
      "\n",
      "[5 rows x 48 columns]\n",
      "\n",
      "Columns in the dataset:\n",
      "['Unnamed: 0', 'Sector', 'Last page', 'Have you smoked at least one full tobacco cigarette (excluding e-cigarettes) once or more in the past 30 days?', 'I see myself as someone who is extraverted, enthusiastic:', 'I see myself as someone who is critical, quarrelsome:', 'I see myself as someone who is dependable, self-disciplined:', 'I see myself as someone who is anxious, easily upset:', 'I see myself as someone who is open to new experiences:', 'I see myself as someone who is reserved, quiet:', 'I see myself as someone who is sympathetic, warm:', 'I see myself as someone who is disorganized, careless:', 'I see myself as someone who is calm, emotionally stable:', 'I see myself as someone who is conventional, uncreative:', 'Do you find it difficult to refrain from smoking where it is forbidden (church, library, cinema, plane, etc...)?', 'How many cigarettes do you smoke each day?', 'Do you smoke more frequently during the first hours after waking up than during the rest of the day?\\xa0', 'Do you smoke if you are so ill that you are in bed most of the day?', 'How soon after you wake up do you smoke your first cigarette?', 'Which cigarette would you mostly hate to give up?', 'How old were you the first time you smoked a full cigarette (not just a few puffs)?', \"How would you describe your current smoking behavior compared to your smoking behavior before Lebanon's economic crisis and revolution began in 2019?\", 'What is your favorite or preferred cigarette brand(s) if you were able to access it?', 'What cigarette brand(s) are you currently using?', 'Are you currently able to afford your favorite or preferred cigarette brand(s)?', \"Has 2019's revolution or economic crisis caused you to switch away from your favorite or preferred cigarette brand(s) to an\\xa0 alternative?\", 'Gender:', 'How old are you?', 'Which governerate do you live in or spend most of your time in?', 'What is the highest level of education you have attained?', 'What is your current employment status?', 'What is your current employment status? [Comment]', 'What is your current marital status?', 'What is your current marital status? [Comment]', 'Do you have close friends?', 'Of the five closest friends or acquaintances that you spend time with on a regular basis, how many of them are smokers?', 'What is your main source of income?', 'What is your main source of income? [Comment]', 'What type of income or financial support does your household receive?', 'What type of income or financial support does your household receive? [Comment]', 'If you receive payment in Lebanese Lira, what is your current estimated monthly household income? (If income is in US Dollars, then refer to the current black market exchange).', 'How would you describe your current income sufficiency?', 'Including yourself, how many people currently live in your household?', 'To what extent were you financially (negatively) affected by the deterioration of the Lebanese economy?', 'How often do you exercise?', 'On average, how many hours per day do you spend on social media for entertainment and social interaction (Facebook, Instagram, YouTube, etc...)?', 'How often do you feel stressed?', 'Employment Status']\n"
     ]
    }
   ],
   "source": [
    "# Load the Dataset\n",
    "df = pd.read_excel('2024_PersonalityTraits_SurveyData.xls')\n",
    "\n",
    "# Display the first few rows\n",
    "print(\"First 5 rows of the dataset:\")\n",
    "print(df.head())\n",
    "\n",
    "# Display column names\n",
    "print(\"\\nColumns in the dataset:\")\n",
    "print(df.columns.tolist())"
   ]
  },
  {
   "cell_type": "markdown",
   "metadata": {
    "id": "11Jr24Y9BRPH"
   },
   "source": [
    "\n",
    "\n",
    "---\n",
    "\n",
    "## 3. Define the Target Variable\n",
    "\n",
    "Identify and process the target variable which indicates whether a respondent has switched cigarette brands due to the economic crisis.\n",
    "\n"
   ]
  },
  {
   "cell_type": "code",
   "execution_count": 11,
   "metadata": {
    "colab": {
     "base_uri": "https://localhost:8080/"
    },
    "id": "sYS-6zraBSmH",
    "outputId": "446efced-079d-4df2-89d1-3bc2f49576f7"
   },
   "outputs": [
    {
     "name": "stdout",
     "output_type": "stream",
     "text": [
      "Target Variable Distribution:\n",
      "brand_switched\n",
      "0    134\n",
      "1     78\n",
      "Name: count, dtype: int64\n"
     ]
    }
   ],
   "source": [
    "# Define the Target Column\n",
    "target_col = \"Has 2019's revolution or economic crisis caused you to switch away from your favorite or preferred cigarette brand(s) to an\\xa0 alternative?\"\n",
    "\n",
    "# Drop rows with missing target values\n",
    "df = df.dropna(subset=[target_col])\n",
    "\n",
    "# Create Binary Target Variable: 1 for 'Yes', 0 for 'No'\n",
    "df['brand_switched'] = df[target_col].apply(lambda x: 1 if str(x).strip().lower().startswith('yes') else 0)\n",
    "\n",
    "# Display Target Variable Distribution\n",
    "print(\"Target Variable Distribution:\")\n",
    "print(df['brand_switched'].value_counts())"
   ]
  },
  {
   "cell_type": "markdown",
   "metadata": {
    "id": "kgGv84qkBVh5"
   },
   "source": [
    "\n",
    "\n",
    "---\n",
    "\n",
    "## 4. Feature Selection\n",
    "\n",
    "Select relevant features that may influence the decision to switch cigarette brands.\n",
    "\n"
   ]
  },
  {
   "cell_type": "code",
   "execution_count": 12,
   "metadata": {
    "colab": {
     "base_uri": "https://localhost:8080/"
    },
    "id": "qCI-l0SyBXFG",
    "outputId": "cd11c9e0-89a3-43c6-8969-872cba2ed394"
   },
   "outputs": [
    {
     "name": "stdout",
     "output_type": "stream",
     "text": [
      "Number of samples: 212\n",
      "Number of features: 24\n"
     ]
    }
   ],
   "source": [
    "# Define Feature Columns\n",
    "feature_cols = [\n",
    "    'Gender:',\n",
    "    'How old are you?',\n",
    "    'Which governerate do you live in or spend most of your time in?',\n",
    "    'What is the highest level of education you have attained?',\n",
    "    'What is your current employment status?',\n",
    "    'What is your main source of income?',\n",
    "    'If you receive payment in Lebanese Lira, what is your current estimated monthly household income? (If income is in US Dollars, then refer to the current black market exchange).',\n",
    "    'How would you describe your current income sufficiency?',\n",
    "    'To what extent were you financially (negatively) affected by the deterioration of the Lebanese economy?',\n",
    "    'How often do you exercise?',\n",
    "    'How often do you feel stressed?',\n",
    "    \"Are you currently able to afford your favorite or preferred cigarette brand(s)?\",\n",
    "    'Do you find it difficult to refrain from smoking where it is forbidden (church, library, cinema, plane, etc...)?',\n",
    "    'How would you describe your current smoking behavior compared to your smoking behavior before Lebanon\\'s economic crisis and revolution began in 2019?',\n",
    "    \"I see myself as someone who is extraverted, enthusiastic:\",\n",
    "    \"I see myself as someone who is critical, quarrelsome:\",\n",
    "    \"I see myself as someone who is dependable, self-disciplined:\",\n",
    "    \"I see myself as someone who is anxious, easily upset:\",\n",
    "    \"I see myself as someone who is open to new experiences:\",\n",
    "    \"I see myself as someone who is reserved, quiet:\",\n",
    "    \"I see myself as someone who is sympathetic, warm:\",\n",
    "    \"I see myself as someone who is disorganized, careless:\",\n",
    "    \"I see myself as someone who is calm, emotionally stable:\",\n",
    "    \"I see myself as someone who is conventional, uncreative:\"\n",
    "]\n",
    "\n",
    "# Select Features and Target\n",
    "X = df[feature_cols]\n",
    "y = df['brand_switched']\n",
    "\n",
    "print(f\"Number of samples: {X.shape[0]}\")\n",
    "print(f\"Number of features: {X.shape[1]}\")"
   ]
  },
  {
   "cell_type": "markdown",
   "metadata": {
    "id": "dtd5cHWRBaXD"
   },
   "source": [
    "\n",
    "\n",
    "---\n",
    "\n",
    "## 5. Data Preprocessing\n",
    "\n",
    "Handle missing values, encode categorical variables, and scale numerical features to prepare the data for modeling.\n",
    "\n"
   ]
  },
  {
   "cell_type": "code",
   "execution_count": 13,
   "metadata": {
    "id": "zhg2aocCBb_f"
   },
   "outputs": [],
   "source": [
    "# Identify Categorical and Numerical Features\n",
    "categorical_features = [\n",
    "    'Gender:',\n",
    "    'Which governerate do you live in or spend most of your time in?',\n",
    "    'What is the highest level of education you have attained?',\n",
    "    'What is your current employment status?',\n",
    "    'What is your main source of income?',\n",
    "    'If you receive payment in Lebanese Lira, what is your current estimated monthly household income? (If income is in US Dollars, then refer to the current black market exchange).',\n",
    "    'How would you describe your current income sufficiency?',\n",
    "    'To what extent were you financially (negatively) affected by the deterioration of the Lebanese economy?',\n",
    "    'How often do you exercise?',\n",
    "    'How often do you feel stressed?',\n",
    "    \"Are you currently able to afford your favorite or preferred cigarette brand(s)?\",\n",
    "    'Do you find it difficult to refrain from smoking where it is forbidden (church, library, cinema, plane, etc...)?',\n",
    "    'How would you describe your current smoking behavior compared to your smoking behavior before Lebanon\\'s economic crisis and revolution began in 2019?',\n",
    "    \"I see myself as someone who is extraverted, enthusiastic:\",\n",
    "    \"I see myself as someone who is critical, quarrelsome:\",\n",
    "    \"I see myself as someone who is dependable, self-disciplined:\",\n",
    "    \"I see myself as someone who is anxious, easily upset:\",\n",
    "    \"I see myself as someone who is open to new experiences:\",\n",
    "    \"I see myself as someone who is reserved, quiet:\",\n",
    "    \"I see myself as someone who is sympathetic, warm:\",\n",
    "    \"I see myself as someone who is disorganized, careless:\",\n",
    "    \"I see myself as someone who is calm, emotionally stable:\",\n",
    "    \"I see myself as someone who is conventional, uncreative:\"\n",
    "]\n",
    "\n",
    "numeric_features = ['How old are you?']\n",
    "\n",
    "# Create Preprocessing Pipelines\n",
    "categorical_transformer = Pipeline(steps=[\n",
    "    ('imputer', SimpleImputer(strategy='most_frequent')),\n",
    "    ('onehot', OneHotEncoder(handle_unknown='ignore', sparse_output=False))\n",
    "])\n",
    "\n",
    "numeric_transformer = Pipeline(steps=[\n",
    "    ('imputer', SimpleImputer(strategy='mean')),\n",
    "    ('scaler', StandardScaler())\n",
    "])\n",
    "\n",
    "preprocessor = ColumnTransformer(transformers=[\n",
    "    ('cat', categorical_transformer, categorical_features),\n",
    "    ('num', numeric_transformer, numeric_features)\n",
    "])"
   ]
  },
  {
   "cell_type": "markdown",
   "metadata": {
    "id": "ApJD71JNBgPW"
   },
   "source": [
    "\n",
    "\n",
    "---\n",
    "\n",
    "## 6. Train-Test Split\n",
    "\n",
    "Divide the dataset into training and testing sets to evaluate the model's performance on unseen data.\n",
    "\n"
   ]
  },
  {
   "cell_type": "code",
   "execution_count": 14,
   "metadata": {
    "colab": {
     "base_uri": "https://localhost:8080/"
    },
    "id": "GwCZUtC6Bik7",
    "outputId": "00e124bc-5563-4687-81aa-6ad40eb8aaac"
   },
   "outputs": [
    {
     "name": "stdout",
     "output_type": "stream",
     "text": [
      "Training samples: 169\n",
      "Testing samples: 43\n"
     ]
    }
   ],
   "source": [
    "# Split Data into Training and Testing Sets\n",
    "X_train, X_test, y_train, y_test = train_test_split(\n",
    "    X, y, test_size=0.2, random_state=42, stratify=y\n",
    ")\n",
    "\n",
    "print(f\"Training samples: {X_train.shape[0]}\")\n",
    "print(f\"Testing samples: {X_test.shape[0]}\")"
   ]
  },
  {
   "cell_type": "markdown",
   "metadata": {
    "id": "JIFKDduoBlED"
   },
   "source": [
    "\n",
    "\n",
    "---\n",
    "\n",
    "## 7. Model Training\n",
    "\n",
    "Create a Logistic Regression pipeline, train the model, and make predictions on the test set.\n",
    "\n"
   ]
  },
  {
   "cell_type": "code",
   "execution_count": 15,
   "metadata": {
    "id": "1FtP9DOGBnY4"
   },
   "outputs": [],
   "source": [
    "# Create Logistic Regression Pipeline\n",
    "logreg_pipeline = Pipeline(steps=[\n",
    "    ('preprocessor', preprocessor),\n",
    "    ('classifier', LogisticRegression(max_iter=1000, random_state=42))\n",
    "])\n",
    "\n",
    "# Train the Model\n",
    "logreg_pipeline.fit(X_train, y_train)\n",
    "\n",
    "# Predict on Test Set\n",
    "y_pred = logreg_pipeline.predict(X_test)"
   ]
  },
  {
   "cell_type": "markdown",
   "metadata": {
    "id": "KFfiZKjcBpd2"
   },
   "source": [
    "\n",
    "\n",
    "---\n",
    "\n",
    "## 8. Evaluate Model Performance\n",
    "\n",
    "Assess the model's accuracy, precision, recall, F1-score, and examine the confusion matrix.\n",
    "\n"
   ]
  },
  {
   "cell_type": "code",
   "execution_count": 16,
   "metadata": {
    "colab": {
     "base_uri": "https://localhost:8080/"
    },
    "id": "-fnm_U-VBrqM",
    "outputId": "eb811371-0bc0-47c4-97e6-08b55ade04a7"
   },
   "outputs": [
    {
     "name": "stdout",
     "output_type": "stream",
     "text": [
      "Accuracy: 0.88\n",
      "\n",
      "Classification Report:\n",
      "              precision    recall  f1-score   support\n",
      "\n",
      "           0       0.87      0.96      0.91        27\n",
      "           1       0.92      0.75      0.83        16\n",
      "\n",
      "    accuracy                           0.88        43\n",
      "   macro avg       0.89      0.86      0.87        43\n",
      "weighted avg       0.89      0.88      0.88        43\n",
      "\n",
      "Confusion Matrix:\n",
      "[[26  1]\n",
      " [ 4 12]]\n"
     ]
    }
   ],
   "source": [
    "# Evaluate Model Performance\n",
    "accuracy = accuracy_score(y_test, y_pred)\n",
    "print(f\"Accuracy: {accuracy:.2f}\\n\")\n",
    "\n",
    "print(\"Classification Report:\")\n",
    "print(classification_report(y_test, y_pred))\n",
    "\n",
    "print(\"Confusion Matrix:\")\n",
    "print(confusion_matrix(y_test, y_pred))"
   ]
  },
  {
   "cell_type": "markdown",
   "metadata": {
    "id": "c0QH81wNBwfF"
   },
   "source": [
    "\n",
    "\n",
    "---\n",
    "\n",
    "## 9. Save the Trained Model\n",
    "\n",
    "Persist the trained model to disk for future use without retraining.\n",
    "\n"
   ]
  },
  {
   "cell_type": "code",
   "execution_count": 17,
   "metadata": {
    "colab": {
     "base_uri": "https://localhost:8080/"
    },
    "id": "XX3m-YN4ByOR",
    "outputId": "4a52ba63-520f-442e-f042-f688a4e5e36a"
   },
   "outputs": [
    {
     "name": "stdout",
     "output_type": "stream",
     "text": [
      "Trained model saved as 'brand_switch_logreg_model.pkl'.\n"
     ]
    }
   ],
   "source": [
    "# Save the Trained Model\n",
    "joblib.dump(logreg_pipeline, 'brand_switch_logreg_model.pkl')\n",
    "print(\"Trained model saved as 'brand_switch_logreg_model.pkl'.\")"
   ]
  },
  {
   "cell_type": "markdown",
   "metadata": {
    "id": "rECJuIXIB2CD"
   },
   "source": [
    "\n",
    "\n",
    "---\n",
    "\n",
    "## 10. Load the Trained Model\n",
    "\n",
    "Demonstrate how to load the saved model for making future predictions.\n",
    "\n"
   ]
  },
  {
   "cell_type": "code",
   "execution_count": 18,
   "metadata": {
    "colab": {
     "base_uri": "https://localhost:8080/"
    },
    "id": "O_wvCbL7B4r1",
    "outputId": "043363b6-8987-45c4-b19e-cfc2ea2a40a3"
   },
   "outputs": [
    {
     "name": "stdout",
     "output_type": "stream",
     "text": [
      "Model loaded successfully.\n"
     ]
    }
   ],
   "source": [
    "# Load the Trained Model\n",
    "try:\n",
    "    loaded_model = joblib.load('brand_switch_logreg_model.pkl')\n",
    "    print(\"Model loaded successfully.\")\n",
    "except FileNotFoundError:\n",
    "    print(\"Error: The model file 'brand_switch_logreg_model.pkl' was not found.\")\n",
    "    # You may need to train the model before running this script.\n",
    "    exit()"
   ]
  },
  {
   "cell_type": "markdown",
   "metadata": {
    "id": "6va8_8vhB8l3"
   },
   "source": [
    "\n",
    "\n",
    "---\n",
    "\n",
    "## 11. Define and Predict Test Cases\n",
    "\n",
    "Create two test cases—one expecting a \"Yes\" prediction and another expecting a \"No\"—to validate the model's predictions.\n",
    "\n"
   ]
  },
  {
   "cell_type": "code",
   "execution_count": 19,
   "metadata": {
    "id": "9Ezq71rTB-Ya"
   },
   "outputs": [],
   "source": [
    "# Define Two Test Cases: One Expected to Predict 'Yes' and Another 'No'\n",
    "\n",
    "test_cases = {\n",
    "    \"Case 1\": {\n",
    "        'Gender:': 'Male',\n",
    "        'How old are you?': 28,\n",
    "        'Which governerate do you live in or spend most of your time in?': 'Beirut',\n",
    "        'What is the highest level of education you have attained?': \"Bachelor's degree (BA/BS)\",\n",
    "        'What is your current employment status?': 'Employee; full-time',\n",
    "        'What is your main source of income?': 'Job',\n",
    "        'If you receive payment in Lebanese Lira, what is your current estimated monthly household income? (If income is in US Dollars, then refer to the current black market exchange).': 'Between 4 and 8 million L.L',\n",
    "        'How would you describe your current income sufficiency?': 'Low: barely covers basic needs',\n",
    "        'To what extent were you financially (negatively) affected by the deterioration of the Lebanese economy?': 'Significantly affected',\n",
    "        'How often do you exercise?': 'Rarely or never',\n",
    "        'How often do you feel stressed?': 'Often or at least 3 days every week',\n",
    "        \"Are you currently able to afford your favorite or preferred cigarette brand(s)?\": 'No',\n",
    "        'Do you find it difficult to refrain from smoking where it is forbidden (church, library, cinema, plane, etc...)?': 'Yes',\n",
    "        'How would you describe your current smoking behavior compared to your smoking behavior before Lebanon\\'s economic crisis and revolution began in 2019?': 'I smoke fewer cigarettes per day',\n",
    "        \"I see myself as someone who is extraverted, enthusiastic:\": 'Agree a little',\n",
    "        \"I see myself as someone who is critical, quarrelsome:\": 'Agree moderately',\n",
    "        \"I see myself as someone who is dependable, self-disciplined:\": 'Disagree a little',\n",
    "        \"I see myself as someone who is anxious, easily upset:\": 'Agree strongly',\n",
    "        \"I see myself as someone who is open to new experiences:\": 'Agree a little',\n",
    "        \"I see myself as someone who is reserved, quiet:\": 'Disagree a little',\n",
    "        \"I see myself as someone who is sympathetic, warm:\": 'Agree strongly',\n",
    "        \"I see myself as someone who is disorganized, careless:\": 'Agree strongly',\n",
    "        \"I see myself as someone who is calm, emotionally stable:\": 'Disagree a little',\n",
    "        \"I see myself as someone who is conventional, uncreative:\": 'Agree a little'\n",
    "    },\n",
    "    \"Case 2\": {\n",
    "        'Gender:': 'Female',\n",
    "        'How old are you?': 35,\n",
    "        'Which governerate do you live in or spend most of your time in?': 'Mount Lebanon',\n",
    "        'What is the highest level of education you have attained?': \"Master's degree (MA/MS)\",\n",
    "        'What is your current employment status?': 'Self-employed',\n",
    "        'What is your main source of income?': 'Business',\n",
    "        'If you receive payment in Lebanese Lira, what is your current estimated monthly household income? (If income is in US Dollars, then refer to the current black market exchange).': 'Above 12 million L.L',\n",
    "        'How would you describe your current income sufficiency?': 'High: more than enough',\n",
    "        'To what extent were you financially (negatively) affected by the deterioration of the Lebanese economy?': 'Not affected',\n",
    "        'How often do you exercise?': 'Regularly or every day',\n",
    "        'How often do you feel stressed?': 'Rarely or never',\n",
    "        \"Are you currently able to afford your favorite or preferred cigarette brand(s)?\": 'Yes',\n",
    "        'Do you find it difficult to refrain from smoking where it is forbidden (church, library, cinema, plane, etc...)?': 'No',\n",
    "        'How would you describe your current smoking behavior compared to your smoking behavior before Lebanon\\'s economic crisis and revolution began in 2019?': 'I smoke the same number of cigarettes per day',\n",
    "        \"I see myself as someone who is extraverted, enthusiastic:\": 'Agree strongly',\n",
    "        \"I see myself as someone who is critical, quarrelsome:\": 'Disagree strongly',\n",
    "        \"I see myself as someone who is dependable, self-disciplined:\": 'Agree strongly',\n",
    "        \"I see myself as someone who is anxious, easily upset:\": 'Agree a little',\n",
    "        \"I see myself as someone who is open to new experiences:\": 'Agree strongly',\n",
    "        \"I see myself as someone who is reserved, quiet:\": 'Disagree a little',\n",
    "        \"I see myself as someone who is sympathetic, warm:\": 'Agree moderately',\n",
    "        \"I see myself as someone who is disorganized, careless:\": 'Disagree strongly',\n",
    "        \"I see myself as someone who is calm, emotionally stable:\": 'Agree strongly',\n",
    "        \"I see myself as someone who is conventional, uncreative:\": 'Disagree a little'\n",
    "    }\n",
    "}\n",
    "\n",
    "# Convert Test Cases to DataFrame\n",
    "test_df_yes = pd.DataFrame([test_cases[\"Case 1\"]])\n",
    "test_df_no = pd.DataFrame([test_cases[\"Case 2\"]])"
   ]
  },
  {
   "cell_type": "markdown",
   "metadata": {
    "id": "RV4Uza3OCIh3"
   },
   "source": [
    "\n",
    "\n",
    "---\n",
    "\n",
    "## 12. Make Predictions on Test Cases\n",
    "\n",
    "Use the trained model to predict whether the test cases have switched brands due to economic factors.\n",
    "\n"
   ]
  },
  {
   "cell_type": "code",
   "execution_count": 20,
   "metadata": {
    "colab": {
     "base_uri": "https://localhost:8080/"
    },
    "id": "h4G9F-6ACKCh",
    "outputId": "57379c58-92e1-45ea-ad28-3b8c728d9b1d"
   },
   "outputs": [
    {
     "name": "stdout",
     "output_type": "stream",
     "text": [
      "\n",
      "Test Case Predictions:\n",
      "Yes Case Prediction (Expected: Yes): Yes\n",
      "No Case Prediction (Expected: No): No\n"
     ]
    }
   ],
   "source": [
    "# Function to Make Predictions\n",
    "def predict_brand_switch(model, input_df):\n",
    "    prediction = model.predict(input_df)[0]\n",
    "    predicted_label = \"Yes\" if prediction == 1 else \"No\"\n",
    "    return predicted_label\n",
    "\n",
    "# Make Predictions\n",
    "prediction_yes = predict_brand_switch(loaded_model, test_df_yes)\n",
    "prediction_no = predict_brand_switch(loaded_model, test_df_no)\n",
    "\n",
    "# Display Predictions\n",
    "print(\"\\nTest Case Predictions:\")\n",
    "print(f\"Yes Case Prediction (Expected: Yes): {prediction_yes}\")\n",
    "print(f\"No Case Prediction (Expected: No): {prediction_no}\")"
   ]
  },
  {
   "cell_type": "markdown",
   "metadata": {
    "id": "wwBBWoyoCNAQ"
   },
   "source": [
    "\n",
    "\n",
    "---\n",
    "\n",
    "## 13. Conclusion\n",
    "\n",
    "In this notebook, we successfully built and evaluated a Logistic Regression model to predict whether smokers switch to alternative cigarette brands due to economic hardship. The workflow included:\n",
    "\n",
    "1. **Data Loading and Inspection**: Imported the dataset and examined its structure.\n",
    "2. **Defining the Target Variable**: Created a binary target variable indicating brand switching.\n",
    "3. **Feature Selection**: Selected relevant features encompassing demographics, economic factors, lifestyle, and personality traits.\n",
    "4. **Data Preprocessing**: Handled missing values, encoded categorical variables, and scaled numerical features.\n",
    "5. **Model Training and Evaluation**: Trained the Logistic Regression model and evaluated its performance using accuracy, classification report, and confusion matrix.\n",
    "6. **Model Persistence**: Saved the trained model for future use.\n",
    "7. **Prediction Demonstration**: Defined and predicted outcomes for two distinct test cases, validating the model's predictive capabilities.\n",
    "\n"
   ]
  }
 ],
 "metadata": {
  "colab": {
   "provenance": []
  },
  "kernelspec": {
   "display_name": "Python 3",
   "name": "python3"
  },
  "language_info": {
   "name": "python"
  }
 },
 "nbformat": 4,
 "nbformat_minor": 0
}
