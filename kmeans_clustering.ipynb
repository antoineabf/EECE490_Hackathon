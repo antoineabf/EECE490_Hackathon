{
 "cells": [
  {
   "cell_type": "markdown",
   "metadata": {
    "id": "2o3qhZJi5yl7"
   },
   "source": [
    "# Team:\n",
    "# Antoine Abou Faycal & Mahdi Alhakim\n",
    "# EECE 490\n",
    "# GitHub Link: https://github.com/antoineabf/EECE490_Hackathon\n",
    "# Cluster Smokers Based on Behavior and Traits Using K-Means Clustering\n",
    "## 1. Introduction\n",
    "\n",
    "Clustering analysis is an unsupervised machine learning technique used to group similar data points together based on their features. In this notebook, we will use **K-Means Clustering** to categorize smokers based on various demographic and personality traits. This segmentation can help in understanding different smoker profiles.\n",
    "\n",
    "## 2. Import Necessary Libraries\n",
    "\n",
    "Importing all the required libraries for data manipulation, preprocessing, clustering, visualization, and handling warnings."
   ]
  },
  {
   "cell_type": "code",
   "execution_count": 7,
   "metadata": {
    "id": "BCQQhREu6iFW"
   },
   "outputs": [],
   "source": [
    "# Import Necessary Libraries\n",
    "import pandas as pd\n",
    "import numpy as np\n",
    "from sklearn.preprocessing import LabelEncoder, StandardScaler\n",
    "from sklearn.cluster import KMeans\n",
    "from sklearn.decomposition import PCA\n",
    "import matplotlib.pyplot as plt\n",
    "import seaborn as sns\n",
    "import warnings\n",
    "\n",
    "# Suppress warnings for cleaner output\n",
    "warnings.filterwarnings('ignore')\n",
    "\n",
    "# For better visualization aesthetics\n",
    "sns.set(style=\"whitegrid\")"
   ]
  },
  {
   "cell_type": "markdown",
   "metadata": {
    "id": "AVLmWHFM6k2C"
   },
   "source": [
    "\n",
    "\n",
    "---\n",
    "\n",
    "## 3. Load the Dataset\n",
    "\n",
    "Load the dataset from an Excel file into a pandas DataFrame. Ensure that the file `'2024_PersonalityTraits_SurveyData.xls'` is located in your working directory.\n",
    "\n"
   ]
  },
  {
   "cell_type": "code",
   "execution_count": 8,
   "metadata": {
    "colab": {
     "base_uri": "https://localhost:8080/"
    },
    "id": "I3iGxwL16jaT",
    "outputId": "39612534-8d47-4930-f668-ee5b3934d814"
   },
   "outputs": [
    {
     "name": "stdout",
     "output_type": "stream",
     "text": [
      "Initial DataFrame shape: (212, 48)\n",
      "Columns: ['Unnamed: 0', 'Sector', 'Last page', 'Have you smoked at least one full tobacco cigarette (excluding e-cigarettes) once or more in the past 30 days?', 'I see myself as someone who is extraverted, enthusiastic:', 'I see myself as someone who is critical, quarrelsome:', 'I see myself as someone who is dependable, self-disciplined:', 'I see myself as someone who is anxious, easily upset:', 'I see myself as someone who is open to new experiences:', 'I see myself as someone who is reserved, quiet:', 'I see myself as someone who is sympathetic, warm:', 'I see myself as someone who is disorganized, careless:', 'I see myself as someone who is calm, emotionally stable:', 'I see myself as someone who is conventional, uncreative:', 'Do you find it difficult to refrain from smoking where it is forbidden (church, library, cinema, plane, etc...)?', 'How many cigarettes do you smoke each day?', 'Do you smoke more frequently during the first hours after waking up than during the rest of the day?\\xa0', 'Do you smoke if you are so ill that you are in bed most of the day?', 'How soon after you wake up do you smoke your first cigarette?', 'Which cigarette would you mostly hate to give up?', 'How old were you the first time you smoked a full cigarette (not just a few puffs)?', \"How would you describe your current smoking behavior compared to your smoking behavior before Lebanon's economic crisis and revolution began in 2019?\", 'What is your favorite or preferred cigarette brand(s) if you were able to access it?', 'What cigarette brand(s) are you currently using?', 'Are you currently able to afford your favorite or preferred cigarette brand(s)?', \"Has 2019's revolution or economic crisis caused you to switch away from your favorite or preferred cigarette brand(s) to an\\xa0 alternative?\", 'Gender:', 'How old are you?', 'Which governerate do you live in or spend most of your time in?', 'What is the highest level of education you have attained?', 'What is your current employment status?', 'What is your current employment status? [Comment]', 'What is your current marital status?', 'What is your current marital status? [Comment]', 'Do you have close friends?', 'Of the five closest friends or acquaintances that you spend time with on a regular basis, how many of them are smokers?', 'What is your main source of income?', 'What is your main source of income? [Comment]', 'What type of income or financial support does your household receive?', 'What type of income or financial support does your household receive? [Comment]', 'If you receive payment in Lebanese Lira, what is your current estimated monthly household income? (If income is in US Dollars, then refer to the current black market exchange).', 'How would you describe your current income sufficiency?', 'Including yourself, how many people currently live in your household?', 'To what extent were you financially (negatively) affected by the deterioration of the Lebanese economy?', 'How often do you exercise?', 'On average, how many hours per day do you spend on social media for entertainment and social interaction (Facebook, Instagram, YouTube, etc...)?', 'How often do you feel stressed?', 'Employment Status']\n"
     ]
    }
   ],
   "source": [
    "# Load the Dataset\n",
    "df = pd.read_excel('2024_PersonalityTraits_SurveyData.xls')\n",
    "\n",
    "# Display initial shape and columns\n",
    "print('Initial DataFrame shape:', df.shape)\n",
    "print('Columns:', df.columns.tolist())"
   ]
  },
  {
   "cell_type": "markdown",
   "metadata": {
    "id": "dbL0da5e6prE"
   },
   "source": [
    "\n",
    "\n",
    "---\n",
    "\n",
    "## 4. Data Cleaning\n",
    "\n",
    "Remove unnecessary columns from the dataset to streamline the analysis. This includes removing unnamed columns and any columns containing `'Comment'` in their names.\n",
    "\n"
   ]
  },
  {
   "cell_type": "code",
   "execution_count": 9,
   "metadata": {
    "colab": {
     "base_uri": "https://localhost:8080/"
    },
    "id": "fJI_48Sa6tw9",
    "outputId": "35de0255-5005-4a51-9cf1-e2dccc92ac7d"
   },
   "outputs": [
    {
     "name": "stdout",
     "output_type": "stream",
     "text": [
      "\n",
      "Columns after removal:\n",
      "['Sector', 'Last page', 'Have you smoked at least one full tobacco cigarette (excluding e-cigarettes) once or more in the past 30 days?', 'I see myself as someone who is extraverted, enthusiastic:', 'I see myself as someone who is critical, quarrelsome:', 'I see myself as someone who is dependable, self-disciplined:', 'I see myself as someone who is anxious, easily upset:', 'I see myself as someone who is open to new experiences:', 'I see myself as someone who is reserved, quiet:', 'I see myself as someone who is sympathetic, warm:', 'I see myself as someone who is disorganized, careless:', 'I see myself as someone who is calm, emotionally stable:', 'I see myself as someone who is conventional, uncreative:', 'Do you find it difficult to refrain from smoking where it is forbidden (church, library, cinema, plane, etc...)?', 'How many cigarettes do you smoke each day?', 'Do you smoke more frequently during the first hours after waking up than during the rest of the day?\\xa0', 'Do you smoke if you are so ill that you are in bed most of the day?', 'How soon after you wake up do you smoke your first cigarette?', 'Which cigarette would you mostly hate to give up?', 'How old were you the first time you smoked a full cigarette (not just a few puffs)?', \"How would you describe your current smoking behavior compared to your smoking behavior before Lebanon's economic crisis and revolution began in 2019?\", 'What is your favorite or preferred cigarette brand(s) if you were able to access it?', 'What cigarette brand(s) are you currently using?', 'Are you currently able to afford your favorite or preferred cigarette brand(s)?', \"Has 2019's revolution or economic crisis caused you to switch away from your favorite or preferred cigarette brand(s) to an\\xa0 alternative?\", 'Gender:', 'How old are you?', 'Which governerate do you live in or spend most of your time in?', 'What is the highest level of education you have attained?', 'What is your current employment status?', 'What is your current marital status?', 'Do you have close friends?', 'Of the five closest friends or acquaintances that you spend time with on a regular basis, how many of them are smokers?', 'What is your main source of income?', 'What type of income or financial support does your household receive?', 'If you receive payment in Lebanese Lira, what is your current estimated monthly household income? (If income is in US Dollars, then refer to the current black market exchange).', 'How would you describe your current income sufficiency?', 'Including yourself, how many people currently live in your household?', 'To what extent were you financially (negatively) affected by the deterioration of the Lebanese economy?', 'How often do you exercise?', 'On average, how many hours per day do you spend on social media for entertainment and social interaction (Facebook, Instagram, YouTube, etc...)?', 'How often do you feel stressed?', 'Employment Status']\n"
     ]
    }
   ],
   "source": [
    "# Remove Unnecessary Columns\n",
    "df = df.drop(columns=['Unnamed: 0'], errors='ignore')\n",
    "\n",
    "# Identify columns containing 'Comment'\n",
    "comment_columns = [col for col in df.columns if 'Comment' in col]\n",
    "df = df.drop(columns=comment_columns, errors='ignore')\n",
    "\n",
    "# Verify columns have been removed\n",
    "print(\"\\nColumns after removal:\")\n",
    "print(df.columns.tolist())"
   ]
  },
  {
   "cell_type": "markdown",
   "metadata": {
    "id": "O_ot8HRg6xB1"
   },
   "source": [
    "\n",
    "\n",
    "---\n",
    "\n",
    "## 5. Handle Missing Values\n",
    "\n",
    "Identify and handle missing values in both categorical and numerical columns. For categorical columns, fill missing values with `'Unknown'`. For numerical columns, convert them to numeric types and fill missing values with the median of the respective column.\n",
    "\n",
    "### Define Categorical and Numerical Columns\n",
    "\n"
   ]
  },
  {
   "cell_type": "code",
   "execution_count": 10,
   "metadata": {
    "id": "BQZP9FkR6zaq"
   },
   "outputs": [],
   "source": [
    "# Define Categorical and Numerical Columns\n",
    "categorical_columns = [\n",
    "    'Gender:',\n",
    "    'I see myself as someone who is extraverted, enthusiastic:',\n",
    "    'I see myself as someone who is critical, quarrelsome:',\n",
    "    'I see myself as someone who is dependable, self-disciplined:',\n",
    "    'I see myself as someone who is anxious, easily upset:',\n",
    "    'I see myself as someone who is open to new experiences:',\n",
    "    'I see myself as someone who is reserved, quiet:',\n",
    "    'I see myself as someone who is sympathetic, warm:',\n",
    "    'I see myself as someone who is disorganized, careless:',\n",
    "    'I see myself as someone who is calm, emotionally stable:',\n",
    "    'I see myself as someone who is conventional, uncreative:',\n",
    "    'How often do you feel stressed?',\n",
    "    'Employment Status',\n",
    "    'What is your favorite or preferred cigarette brand(s) if you were able to access it?',\n",
    "    'What cigarette brand(s) are you currently using?'\n",
    "]\n",
    "\n",
    "numerical_columns = [\n",
    "    'How old are you?',\n",
    "    # 'How many cigarettes do you smoke each day?',  # Target variable\n",
    "]"
   ]
  },
  {
   "cell_type": "markdown",
   "metadata": {
    "id": "32r3ARP5617j"
   },
   "source": [
    "\n",
    "\n",
    "### Fill Missing Values\n",
    "\n"
   ]
  },
  {
   "cell_type": "code",
   "execution_count": 11,
   "metadata": {
    "id": "KS9GgGzG63xQ"
   },
   "outputs": [],
   "source": [
    "# Handle Missing Values for Categorical Columns\n",
    "for col in categorical_columns:\n",
    "    if col in df.columns:\n",
    "        df[col] = df[col].fillna('Unknown')\n",
    "    else:\n",
    "        print(f\"Warning: Categorical column '{col}' not found in DataFrame.\")\n",
    "\n",
    "# Handle Missing Values for Numerical Columns\n",
    "for col in numerical_columns:\n",
    "    if col in df.columns:\n",
    "        df[col] = pd.to_numeric(df[col], errors='coerce').fillna(df[col].median())\n",
    "    else:\n",
    "        print(f\"Warning: Numerical column '{col}' not found in DataFrame.\")"
   ]
  },
  {
   "cell_type": "markdown",
   "metadata": {
    "id": "OaZktjEb66VJ"
   },
   "source": [
    "\n",
    "\n",
    "### Verify No Missing Values Remain\n",
    "\n"
   ]
  },
  {
   "cell_type": "code",
   "execution_count": 12,
   "metadata": {
    "colab": {
     "base_uri": "https://localhost:8080/"
    },
    "id": "D9r8VZ_N68Xu",
    "outputId": "d497e17c-2f89-4d5a-8db1-c05e803baea8"
   },
   "outputs": [
    {
     "name": "stdout",
     "output_type": "stream",
     "text": [
      "\n",
      "Missing values after imputation:\n",
      "Series([], dtype: int64)\n"
     ]
    }
   ],
   "source": [
    "# Verify No Missing Values Remain\n",
    "print('\\nMissing values after imputation:')\n",
    "print(df.isnull().sum()[df.isnull().sum() > 0])"
   ]
  },
  {
   "cell_type": "markdown",
   "metadata": {
    "id": "NGrtQKXw7A_A"
   },
   "source": [
    "\n",
    "---\n",
    "\n",
    "## 6. Encode Categorical Variables\n",
    "\n",
    "Convert categorical variables into numerical formats suitable for clustering. A predefined `response_mapping` is used to map textual responses to numerical values.\n",
    "\n",
    "### Define Response Mapping\n",
    "\n"
   ]
  },
  {
   "cell_type": "code",
   "execution_count": 13,
   "metadata": {
    "id": "9_XoKP216-mw"
   },
   "outputs": [],
   "source": [
    "# Encode Categorical Input Features\n",
    "response_mapping = {\n",
    "    'Disagree strongly': 1,\n",
    "    'Disagree a little': 2,\n",
    "    'Agree a little': 3,\n",
    "    'Agree moderately': 4,\n",
    "    'Agree strongly': 5,\n",
    "    'Unknown': 0  # For any unspecified or missing responses\n",
    "}"
   ]
  },
  {
   "cell_type": "markdown",
   "metadata": {
    "id": "SErIPzvN7OjN"
   },
   "source": [
    "\n",
    "\n",
    "### Apply Mapping to Categorical Columns\n",
    "\n"
   ]
  },
  {
   "cell_type": "code",
   "execution_count": 15,
   "metadata": {
    "id": "NlzmDCWK7LJ9"
   },
   "outputs": [],
   "source": [
    "for col in categorical_columns:\n",
    "    if col in df.columns:\n",
    "        df[col] = df[col].map(response_mapping)\n",
    "        df[col] = df[col].fillna(0).astype(int)\n",
    "    else:\n",
    "        print(f\"Warning: Column '{col}' not found in DataFrame.\")"
   ]
  },
  {
   "cell_type": "markdown",
   "metadata": {
    "id": "rEoVjkr-7S_P"
   },
   "source": [
    "\n",
    "\n",
    "### Encode the Target Variable\n",
    "\n",
    "The target variable `'How many cigarettes do you smoke each day?'` is optional for clustering since clustering is unsupervised. If present, we can encode it for potential supervised analyses.\n",
    "\n"
   ]
  },
  {
   "cell_type": "code",
   "execution_count": 16,
   "metadata": {
    "colab": {
     "base_uri": "https://localhost:8080/"
    },
    "id": "oSi89-6U7Ugh",
    "outputId": "4cabd179-cf19-4ed6-c822-bb23e68aa5fa"
   },
   "outputs": [
    {
     "name": "stdout",
     "output_type": "stream",
     "text": [
      "\n",
      "Classes for 'How many cigarettes do you smoke each day?': ['10 or less cigarettes/day', '11 to 20 cigarettes', '21 to 30 cigarettes', '31 cigarettes/day or more']\n"
     ]
    }
   ],
   "source": [
    "# Encode the Target Variable (if needed)\n",
    "target_column = 'How many cigarettes do you smoke each day?'\n",
    "if target_column in df.columns:\n",
    "    le_target = LabelEncoder()\n",
    "    df[target_column] = le_target.fit_transform(df[target_column].astype(str))\n",
    "    print(f\"\\nClasses for '{target_column}': {list(le_target.classes_)}\")\n",
    "else:\n",
    "    print(f\"Error: Target column '{target_column}' not found in DataFrame.\")"
   ]
  },
  {
   "cell_type": "markdown",
   "metadata": {
    "id": "pDGPkHaR7d1s"
   },
   "source": [
    "\n",
    "\n",
    "\n",
    "---\n",
    "\n",
    "<a id='FeatureSelection'></a>\n",
    "## 7. Feature Selection\n",
    "\n",
    "Select relevant features for the clustering model. Typically, we exclude the target variable and any identifier columns.\n",
    "\n"
   ]
  },
  {
   "cell_type": "code",
   "execution_count": 17,
   "metadata": {
    "colab": {
     "base_uri": "https://localhost:8080/"
    },
    "id": "Z2Mj6giA7gdz",
    "outputId": "887fda4a-7341-484f-e131-ebffc2eb1661"
   },
   "outputs": [
    {
     "name": "stdout",
     "output_type": "stream",
     "text": [
      "\n",
      "All feature columns found.\n"
     ]
    }
   ],
   "source": [
    "# Select Features (excluding target)\n",
    "features = [\n",
    "    'How old are you?',\n",
    "    'Gender:',\n",
    "    'I see myself as someone who is extraverted, enthusiastic:',\n",
    "    'I see myself as someone who is critical, quarrelsome:',\n",
    "    'I see myself as someone who is dependable, self-disciplined:',\n",
    "    'I see myself as someone who is anxious, easily upset:',\n",
    "    'I see myself as someone who is open to new experiences:',\n",
    "    'I see myself as someone who is reserved, quiet:',\n",
    "    'I see myself as someone who is sympathetic, warm:',\n",
    "    'I see myself as someone who is disorganized, careless:',\n",
    "    'I see myself as someone who is calm, emotionally stable:',\n",
    "    'I see myself as someone who is conventional, uncreative:',\n",
    "    'How often do you feel stressed?',\n",
    "    'Employment Status',\n",
    "    'What is your favorite or preferred cigarette brand(s) if you were able to access it?',\n",
    "    'What cigarette brand(s) are you currently using?'\n",
    "]\n",
    "\n",
    "# Check for missing feature columns\n",
    "missing_features = [col for col in features if col not in df.columns]\n",
    "if missing_features:\n",
    "    print('\\nMissing feature columns:', missing_features)\n",
    "else:\n",
    "    print('\\nAll feature columns found.')"
   ]
  },
  {
   "cell_type": "markdown",
   "metadata": {
    "id": "lwqbGnfq7l6d"
   },
   "source": [
    "\n",
    "\n",
    "### Assign Feature Set and Target\n",
    "\n"
   ]
  },
  {
   "cell_type": "code",
   "execution_count": 18,
   "metadata": {
    "colab": {
     "base_uri": "https://localhost:8080/"
    },
    "id": "nB9Gl7zV7jth",
    "outputId": "51f3e15a-69a0-4026-9e57-98e99dcc3cec"
   },
   "outputs": [
    {
     "name": "stdout",
     "output_type": "stream",
     "text": [
      "Features shape: (212, 16)\n",
      "Target shape: (212,)\n"
     ]
    }
   ],
   "source": [
    "if target_column in df.columns:\n",
    "    X = df[features]\n",
    "    y = df[target_column].astype(int)\n",
    "else:\n",
    "    X = df[features]\n",
    "    y = None\n",
    "\n",
    "print('Features shape:', X.shape)\n",
    "if y is not None:\n",
    "    print('Target shape:', y.shape)"
   ]
  },
  {
   "cell_type": "markdown",
   "metadata": {
    "id": "a5MPZEnK7ptV"
   },
   "source": [
    "\n",
    "\n",
    "---\n",
    "\n",
    "## 8. Feature Scaling\n",
    "\n",
    "Standardize the feature set to ensure that all features contribute equally to the clustering process.\n",
    "\n"
   ]
  },
  {
   "cell_type": "code",
   "execution_count": 19,
   "metadata": {
    "id": "wdt5_V227sUn"
   },
   "outputs": [],
   "source": [
    "# Feature Scaling\n",
    "scaler = StandardScaler()\n",
    "X_scaled = scaler.fit_transform(X)"
   ]
  },
  {
   "cell_type": "markdown",
   "metadata": {
    "id": "XSwxPeqD7ure"
   },
   "source": [
    "\n",
    "\n",
    "---\n",
    "\n",
    "## 9. Apply K-Means Clustering\n",
    "\n",
    "Perform K-Means clustering with a specified number of clusters (3 in this case). Assign descriptive labels to each cluster.\n",
    "\n"
   ]
  },
  {
   "cell_type": "code",
   "execution_count": 20,
   "metadata": {
    "id": "JA2XI23y7wR5"
   },
   "outputs": [],
   "source": [
    "# Apply K-Means Clustering with 3 Clusters\n",
    "kmeans = KMeans(n_clusters=3, random_state=42)\n",
    "kmeans.fit(X_scaled)\n",
    "clusters = kmeans.predict(X_scaled)\n",
    "\n",
    "# Add cluster labels to the dataframe\n",
    "df['Cluster'] = clusters\n",
    "\n",
    "# Map cluster numbers to labels\n",
    "cluster_mapping = {0: 'Low', 1: 'Medium', 2: 'Extreme'}\n",
    "df['Cluster'] = df['Cluster'].map(cluster_mapping)"
   ]
  },
  {
   "cell_type": "markdown",
   "metadata": {
    "id": "65UlF8jF7yqR"
   },
   "source": [
    "\n",
    "\n",
    "---\n",
    "\n",
    "\n",
    "## 10. Visualize Clusters with PCA\n",
    "\n",
    "Use Principal Component Analysis (PCA) to reduce the dimensionality of the data for visualization purposes. Plot the clusters in the PCA-reduced 2D space.\n",
    "\n"
   ]
  },
  {
   "cell_type": "code",
   "execution_count": 21,
   "metadata": {
    "colab": {
     "base_uri": "https://localhost:8080/",
     "height": 650
    },
    "id": "gQdag2hH72K0",
    "outputId": "5b40f764-0e30-4566-cca1-0e4cf172b5b5"
   },
   "outputs": [
    {
     "data": {
      "image/png": "[encoded data removed]",
      "text/plain": [
       "<Figure size 1000x700 with 1 Axes>"
      ]
     },
     "metadata": {},
     "output_type": "display_data"
    }
   ],
   "source": [
    "# Visualize Clusters using PCA\n",
    "pca = PCA(n_components=2, random_state=42)\n",
    "principal_components = pca.fit_transform(X_scaled)\n",
    "df['PC1'] = principal_components[:,0]\n",
    "df['PC2'] = principal_components[:,1]\n",
    "\n",
    "plt.figure(figsize=(10,7))\n",
    "sns.scatterplot(x='PC1', y='PC2', hue='Cluster', data=df, palette='viridis', alpha=0.6)\n",
    "plt.title('K-Means Clusters Visualization using PCA (3 Clusters)')\n",
    "plt.xlabel('Principal Component 1')\n",
    "plt.ylabel('Principal Component 2')\n",
    "plt.legend(title='Cluster')\n",
    "plt.show()"
   ]
  },
  {
   "cell_type": "markdown",
   "metadata": {
    "id": "oDHzBTvt76F_"
   },
   "source": [
    "\n",
    "\n",
    "\n",
    "\n",
    "---\n",
    "\n",
    "<a id='Analysis'></a>\n",
    "## 11. Analyze Cluster Characteristics\n",
    "\n",
    "Examine the average values of each feature within each cluster to understand the defining traits of each group.\n",
    "\n"
   ]
  },
  {
   "cell_type": "code",
   "execution_count": 22,
   "metadata": {
    "colab": {
     "base_uri": "https://localhost:8080/"
    },
    "id": "vXM9R0us776b",
    "outputId": "01e3c5ba-b0fd-438e-f34a-a31f4c7f07c3"
   },
   "outputs": [
    {
     "name": "stdout",
     "output_type": "stream",
     "text": [
      "\n",
      "Cluster Characteristics:\n",
      "   Cluster  How old are you?  Gender:  \\\n",
      "0  Extreme         21.303030      0.0   \n",
      "1      Low         24.175676      0.0   \n",
      "2   Medium         22.013889      0.0   \n",
      "\n",
      "   I see myself as someone who is extraverted, enthusiastic:  \\\n",
      "0                                           3.969697           \n",
      "1                                           3.554054           \n",
      "2                                           1.819444           \n",
      "\n",
      "   I see myself as someone who is critical, quarrelsome:  \\\n",
      "0                                           2.606061       \n",
      "1                                           1.148649       \n",
      "2                                           2.416667       \n",
      "\n",
      "   I see myself as someone who is dependable, self-disciplined:  \\\n",
      "0                                           3.454545              \n",
      "1                                           4.189189              \n",
      "2                                           2.930556              \n",
      "\n",
      "   I see myself as someone who is anxious, easily upset:  \\\n",
      "0                                           3.090909       \n",
      "1                                           1.432432       \n",
      "2                                           3.791667       \n",
      "\n",
      "   I see myself as someone who is open to new experiences:  \\\n",
      "0                                           4.333333         \n",
      "1                                           3.932432         \n",
      "2                                           3.291667         \n",
      "\n",
      "   I see myself as someone who is reserved, quiet:  \\\n",
      "0                                         0.984848   \n",
      "1                                         2.270270   \n",
      "2                                         2.694444   \n",
      "\n",
      "   I see myself as someone who is sympathetic, warm:  \\\n",
      "0                                           3.681818   \n",
      "1                                           3.581081   \n",
      "2                                           2.638889   \n",
      "\n",
      "   I see myself as someone who is disorganized, careless:  \\\n",
      "0                                           1.575758        \n",
      "1                                           0.770270        \n",
      "2                                           2.527778        \n",
      "\n",
      "   I see myself as someone who is calm, emotionally stable:  \\\n",
      "0                                           2.575758          \n",
      "1                                           3.351351          \n",
      "2                                           1.694444          \n",
      "\n",
      "   I see myself as someone who is conventional, uncreative:  \\\n",
      "0                                           0.500000          \n",
      "1                                           1.500000          \n",
      "2                                           1.083333          \n",
      "\n",
      "   How often do you feel stressed?  Employment Status  \\\n",
      "0                              0.0                0.0   \n",
      "1                              0.0                0.0   \n",
      "2                              0.0                0.0   \n",
      "\n",
      "   What is your favorite or preferred cigarette brand(s) if you were able to access it?  \\\n",
      "0                                                0.0                                      \n",
      "1                                                0.0                                      \n",
      "2                                                0.0                                      \n",
      "\n",
      "   What cigarette brand(s) are you currently using?  \n",
      "0                                               0.0  \n",
      "1                                               0.0  \n",
      "2                                               0.0  \n"
     ]
    }
   ],
   "source": [
    "# Analyze Cluster Characteristics\n",
    "cluster_summary = df.groupby('Cluster')[features].mean().reset_index()\n",
    "print('\\nCluster Characteristics:')\n",
    "print(cluster_summary)"
   ]
  },
  {
   "cell_type": "markdown",
   "metadata": {
    "id": "78EntpxI8Alj"
   },
   "source": [
    "\n",
    "\n",
    "\n",
    "---\n",
    "\n",
    "<a id='Conclusion'></a>\n",
    "## 12. Conclusion\n",
    "\n",
    "In this notebook, we successfully performed K-Means clustering on a dataset of smokers' behaviors and traits. The key steps included:\n",
    "\n",
    "- **Data Loading and Cleaning:** Imported the dataset, removed unnecessary columns, and handled missing values.\n",
    "- **Feature Encoding:** Transformed categorical variables into numerical formats suitable for modeling.\n",
    "- **Clustering:** Applied K-Means clustering to segment the data into distinct groups.\n",
    "- **Visualization:** Used PCA to visualize the clusters in a 2D space.\n",
    "- **Analysis:** Analyzed the characteristics of each cluster to understand the defining features."
   ]
  }
 ],
 "metadata": {
  "colab": {
   "provenance": []
  },
  "kernelspec": {
   "display_name": "Python 3",
   "name": "python3"
  },
  "language_info": {
   "name": "python"
  }
 },
 "nbformat": 4,
 "nbformat_minor": 0
}
